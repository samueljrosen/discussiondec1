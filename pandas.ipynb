{
 "cells": [
  {
   "cell_type": "markdown",
   "metadata": {
    "colab_type": "text",
    "id": "VRfYNak5tpvD"
   },
   "source": [
    "# ***Pandas***"
   ]
  },
  {
   "cell_type": "markdown",
   "metadata": {},
   "source": [
    "<sub>Acknowledgement: This notebook summarizing basics of pandas was provided by Hyun Min Kang, an Associate Professor of BioStatistics at the School of Public Health, University of Michigan, Ann Arbor.</sub>"
   ]
  },
  {
   "cell_type": "markdown",
   "metadata": {
    "colab_type": "text",
    "id": "sn27qAlgDdkk"
   },
   "source": [
    "### Creating a data frame\n",
    "\n",
    "* Creating a dataframe can be done from a dictionary, or a list of list"
   ]
  },
  {
   "cell_type": "code",
   "execution_count": 1,
   "metadata": {
    "colab": {},
    "colab_type": "code",
    "id": "yZd7CCAgDhmm"
   },
   "outputs": [
    {
     "name": "stdout",
     "output_type": "stream",
     "text": [
      "   x  y  s\n",
      "0  1  3  a\n",
      "1  2  2  b\n",
      "2  3  1  c\n",
      "   x  y  s\n",
      "0  1  3  a\n",
      "1  2  2  b\n",
      "2  3  1  c\n"
     ]
    }
   ],
   "source": [
    "import pandas as pd\n",
    "df1 = pd.DataFrame({'x':[1,2,3],'y':[3,2,1],'s':['a','b','c']})\n",
    "print(df1)\n",
    "df2 = pd.DataFrame([[1,3,'a'],[2,2,'b'],[3,1,'c']],columns=['x','y','s'])\n",
    "print(df2)"
   ]
  },
  {
   "cell_type": "markdown",
   "metadata": {
    "colab_type": "text",
    "id": "rLGOWsW9Enri"
   },
   "source": [
    "### Reading data from a local file\n",
    "\n",
    "* `pandas` provides `read_csv` function to read comma-separated or tab-separated files\n",
    "* `.head() function prints first few rows only\n",
    "* `.columns` attribute list all columns\n",
    "* '.describe()' function provides a basic summary of each column"
   ]
  },
  {
   "cell_type": "code",
   "execution_count": 2,
   "metadata": {
    "colab": {},
    "colab_type": "code",
    "id": "-QYlUOV9Te8b"
   },
   "outputs": [
    {
     "name": "stdout",
     "output_type": "stream",
     "text": [
      "\"total_bill\",\"tip\",\"sex\",\"smoker\",\"day\",\"time\",\"size\"\n",
      "16.99,1.01,\"Female\",\"No\",\"Sun\",\"Dinner\",2\n",
      "10.34,1.66,\"Male\",\"No\",\"Sun\",\"Dinner\",3\n",
      "21.01,3.5,\"Male\",\"No\",\"Sun\",\"Dinner\",3\n",
      "23.68,3.31,\"Male\",\"No\",\"Sun\",\"Dinner\",2\n",
      "24.59,3.61,\"Female\",\"No\",\"Sun\",\"Dinner\",4\n",
      "25.29,4.71,\"Male\",\"No\",\"Sun\",\"Dinner\",4\n",
      "8.77,2,\"Male\",\"No\",\"Sun\",\"Dinner\",2\n",
      "26.88,3.12,\"Male\",\"No\",\"Sun\",\"Dinner\",4\n",
      "15.04,1.96,\"Male\",\"No\",\"Sun\",\"Dinner\",2\n"
     ]
    }
   ],
   "source": [
    "!head sample_data/tips.csv"
   ]
  },
  {
   "cell_type": "code",
   "execution_count": 3,
   "metadata": {
    "colab": {},
    "colab_type": "code",
    "id": "qgBbhhFpuR93"
   },
   "outputs": [
    {
     "name": "stdout",
     "output_type": "stream",
     "text": [
      "   total_bill   tip     sex smoker  day    time  size\n",
      "0       16.99  1.01  Female     No  Sun  Dinner     2\n",
      "1       10.34  1.66    Male     No  Sun  Dinner     3\n",
      "2       21.01  3.50    Male     No  Sun  Dinner     3\n",
      "3       23.68  3.31    Male     No  Sun  Dinner     2\n",
      "4       24.59  3.61  Female     No  Sun  Dinner     4\n"
     ]
    }
   ],
   "source": [
    "import pandas as pd\n",
    "\n",
    "# Read the file\n",
    "df = pd.read_csv(\"sample_data/tips.csv\")\n",
    "\n",
    "# print the very beginning\n",
    "print(df.head(5))"
   ]
  },
  {
   "cell_type": "code",
   "execution_count": 4,
   "metadata": {
    "colab": {},
    "colab_type": "code",
    "id": "viqjM1imUKA-"
   },
   "outputs": [
    {
     "name": "stdout",
     "output_type": "stream",
     "text": [
      "0 : total_bill\n",
      "1 : tip\n",
      "2 : sex\n",
      "3 : smoker\n",
      "4 : day\n",
      "5 : time\n",
      "6 : size\n",
      "Size: (244, 7)\n",
      "       total_bill         tip        size\n",
      "count  244.000000  244.000000  244.000000\n",
      "mean    19.785943    2.998279    2.569672\n",
      "std      8.902412    1.383638    0.951100\n",
      "min      3.070000    1.000000    1.000000\n",
      "25%     13.347500    2.000000    2.000000\n",
      "50%     17.795000    2.900000    2.000000\n",
      "75%     24.127500    3.562500    3.000000\n",
      "max     50.810000   10.000000    6.000000\n"
     ]
    }
   ],
   "source": [
    "# print the column name\n",
    "for i, v in enumerate(df.columns):  \n",
    "  print(i,\":\",v) # print the column index  name\n",
    "  \n",
    "# how big is the data?\n",
    "print(\"Size:\",df.shape)\n",
    "\n",
    "# get the basic statistics of each column\n",
    "print(df.describe())"
   ]
  },
  {
   "cell_type": "markdown",
   "metadata": {
    "colab_type": "text",
    "id": "EKjWvKv9co7t"
   },
   "source": [
    "### Reading data online\n",
    "\n",
    "* You can also read files online using a URL"
   ]
  },
  {
   "cell_type": "code",
   "execution_count": 5,
   "metadata": {
    "colab": {},
    "colab_type": "code",
    "id": "Ei8YqRXHotsd"
   },
   "outputs": [
    {
     "name": "stdout",
     "output_type": "stream",
     "text": [
      "       country continent  year  lifeExp       pop   gdpPercap\n",
      "0  Afghanistan      Asia  1952   28.801   8425333  779.445314\n",
      "1  Afghanistan      Asia  1957   30.332   9240934  820.853030\n",
      "2  Afghanistan      Asia  1962   31.997  10267083  853.100710\n",
      "3  Afghanistan      Asia  1967   34.020  11537966  836.197138\n",
      "4  Afghanistan      Asia  1972   36.088  13079460  739.981106\n"
     ]
    }
   ],
   "source": [
    "import pandas as pd\n",
    "\n",
    "# Obtain the URL to download the raw data\n",
    "url = \"https://raw.githubusercontent.com/jennybc/gapminder/master/data-raw/08_gap-every-five-years.tsv\"\n",
    "gap = pd.read_csv(url, sep='\\t')  # for tsv file, use sep='\\t'\n",
    "print(gap.head(n=5))  # print the beginning of the data"
   ]
  },
  {
   "cell_type": "markdown",
   "metadata": {
    "colab_type": "text",
    "id": "3fQftIMtXDTo"
   },
   "source": [
    "### Exploring pandas dataframe\n",
    "\n",
    "* `.sample()` function randomly sample rows\n",
    "* Columns can be accessed as if it is an attribute, or using '[]' like dictionary"
   ]
  },
  {
   "cell_type": "code",
   "execution_count": 6,
   "metadata": {
    "colab": {},
    "colab_type": "code",
    "id": "a4jmXvBXXGuV"
   },
   "outputs": [
    {
     "name": "stdout",
     "output_type": "stream",
     "text": [
      "        country continent  year  lifeExp       pop    gdpPercap\n",
      "408     Denmark    Europe  1952   70.780   4334000  9692.385245\n",
      "729        Iran      Asia  1997   68.042  63327987  8263.590301\n",
      "1429  Sri Lanka      Asia  1957   61.456   9128546  1072.546602\n",
      "498     Eritrea    Africa  1982   43.890   2637297   524.875849\n",
      "1052    Myanmar      Asia  1992   59.320  40546538   347.000000\n",
      "11    Afghanistan\n",
      "12        Albania\n",
      "Name: country, dtype: object\n",
      "11    Afghanistan\n",
      "12        Albania\n",
      "Name: country, dtype: object\n"
     ]
    }
   ],
   "source": [
    "# Get a random sample of the data\n",
    "print(gap.sample(n=5))\n",
    "\n",
    "# Accessing column can be done like an attribute\n",
    "print(gap.country[11:13])\n",
    "\n",
    "# Or accessed like a dictionary\n",
    "print(gap['country'][11:13])"
   ]
  },
  {
   "cell_type": "markdown",
   "metadata": {
    "colab_type": "text",
    "id": "S5g8-3TkZRtp"
   },
   "source": [
    "### Asking basic questions about the data\n",
    "\n",
    "* `.unique()` or `.describe()` function can answer some exploratory questions"
   ]
  },
  {
   "cell_type": "code",
   "execution_count": 7,
   "metadata": {
    "colab": {},
    "colab_type": "code",
    "id": "o80fsgh5Yh4Y"
   },
   "outputs": [
    {
     "name": "stdout",
     "output_type": "stream",
     "text": [
      "142\n",
      "12\n",
      "['Asia' 'Europe' 'Africa' 'Americas' 'Oceania']\n",
      "count    1704.000000\n",
      "mean       59.474439\n",
      "std        12.917107\n",
      "min        23.599000\n",
      "25%        48.198000\n",
      "50%        60.712500\n",
      "75%        70.845500\n",
      "max        82.603000\n",
      "Name: lifeExp, dtype: float64\n"
     ]
    }
   ],
   "source": [
    "# How many countries exist?\n",
    "print(len(gap.country.unique()))\n",
    "\n",
    "# How many years exist?\n",
    "print(len(gap.year.unique()))\n",
    "\n",
    "# What are available continents?\n",
    "print(gap.continent.unique())\n",
    "\n",
    "# Get the basic summary of Life Expectancy\n",
    "print(gap.lifeExp.describe())"
   ]
  },
  {
   "cell_type": "markdown",
   "metadata": {
    "colab_type": "text",
    "id": "QQw7Oj50a7nn"
   },
   "source": [
    "### Subsetting and slicing data\n",
    "\n",
    "* You may subset or slice specific rows by condition"
   ]
  },
  {
   "cell_type": "code",
   "execution_count": 8,
   "metadata": {
    "colab": {},
    "colab_type": "code",
    "id": "0b4i5VerZ_-R"
   },
   "outputs": [
    {
     "name": "stdout",
     "output_type": "stream",
     "text": [
      "(12, 6)\n",
      "            country continent  year  lifeExp        pop    gdpPercap\n",
      "1608  United States  Americas  1952   68.440  157553000  13990.48208\n",
      "1609  United States  Americas  1957   69.490  171984000  14847.12712\n",
      "1610  United States  Americas  1962   70.210  186538000  16173.14586\n",
      "1611  United States  Americas  1967   70.760  198712000  19530.36557\n",
      "1612  United States  Americas  1972   71.340  209896000  21806.03594\n",
      "1613  United States  Americas  1977   73.380  220239000  24072.63213\n",
      "1614  United States  Americas  1982   74.650  232187835  25009.55914\n",
      "1615  United States  Americas  1987   75.020  242803533  29884.35041\n",
      "1616  United States  Americas  1992   76.090  256894189  32003.93224\n",
      "1617  United States  Americas  1997   76.810  272911760  35767.43303\n",
      "1618  United States  Americas  2002   77.310  287675526  39097.09955\n",
      "1619  United States  Americas  2007   78.242  301139947  42951.65309\n"
     ]
    }
   ],
   "source": [
    "# I want to extract only USA data\n",
    "gap_usa = gap[gap.country == 'United States']\n",
    "print(gap_usa.shape)\n",
    "print(gap_usa)"
   ]
  },
  {
   "cell_type": "code",
   "execution_count": 9,
   "metadata": {
    "colab": {},
    "colab_type": "code",
    "id": "dPzV7zNYaSvW"
   },
   "outputs": [
    {
     "name": "stdout",
     "output_type": "stream",
     "text": [
      "(284, 6)\n",
      "              country continent  year  lifeExp        pop    gdpPercap\n",
      "347       Congo, Rep.    Africa  2007   55.322    3800610  3632.557798\n",
      "1368  Slovak Republic    Europe  1952   64.360    3558137  5074.659104\n",
      "936          Malaysia      Asia  1952   48.463    6748378  1831.132894\n",
      "1031          Morocco    Africa  2007   71.164   33757175  3820.175230\n",
      "696             India      Asia  1952   37.373  372000000   546.565749\n"
     ]
    }
   ],
   "source": [
    "# I want to extract only 1952 and 2007 data\n",
    "gap_55yr = gap[gap.year.isin([1952,2007])]\n",
    "print(gap_55yr.shape)\n",
    "print(gap_55yr.sample(n=5))"
   ]
  },
  {
   "cell_type": "markdown",
   "metadata": {
    "colab_type": "text",
    "id": "zfaxpuhmzV36"
   },
   "source": [
    "### Reshaping from tall to wide data\n",
    "\n",
    "* `.pivot()` function allows conversion from tall to wide"
   ]
  },
  {
   "cell_type": "code",
   "execution_count": 10,
   "metadata": {
    "colab": {},
    "colab_type": "code",
    "id": "xQDwfHRtaulm"
   },
   "outputs": [],
   "source": [
    "gap_diff = gap_55yr.pivot(index='country',columns='year',values='lifeExp')\n",
    "gap_diff.reset_index(inplace=True)  # make country as column name again\n",
    "\n"
   ]
  },
  {
   "cell_type": "code",
   "execution_count": 11,
   "metadata": {
    "colab": {},
    "colab_type": "code",
    "id": "qCfCP7g6C-xA"
   },
   "outputs": [],
   "source": [
    "# define a new column 'Diff'\n",
    "gap_diff['Diff'] = gap_diff[2007] - gap_diff[1952]\n",
    "# define a new column 'Ratio'\n",
    "gap_diff['Ratio'] = gap_diff[2007]/gap_diff[1952]\n",
    "\n",
    "gap_diff.columns=['country','1952','2007','Diff','Ratio'] # rename columns"
   ]
  },
  {
   "cell_type": "code",
   "execution_count": 12,
   "metadata": {
    "colab": {},
    "colab_type": "code",
    "id": "oTRya-bjDBTj"
   },
   "outputs": [
    {
     "name": "stdout",
     "output_type": "stream",
     "text": [
      "         country    1952    2007    Diff     Ratio\n",
      "95        Norway  72.670  80.196   7.526  1.103564\n",
      "122       Sweden  71.860  80.884   9.024  1.125578\n",
      "54      Honduras  41.912  70.198  28.286  1.674890\n",
      "31       Croatia  61.210  75.748  14.538  1.237510\n",
      "123  Switzerland  69.620  81.701  12.081  1.173528\n"
     ]
    }
   ],
   "source": [
    "# print random rows\n",
    "print(gap_diff.sample(n=5))"
   ]
  },
  {
   "cell_type": "code",
   "execution_count": 13,
   "metadata": {
    "colab": {},
    "colab_type": "code",
    "id": "Vy4SAOtfzbrP"
   },
   "outputs": [
    {
     "name": "stdout",
     "output_type": "stream",
     "text": [
      "             1952        2007        Diff       Ratio\n",
      "count  142.000000  142.000000  142.000000  142.000000\n",
      "mean    49.057620   67.007423   17.949803    1.400948\n",
      "std     12.225956   12.073021    8.124520    0.226774\n",
      "min     28.801000   39.613000   -4.964000    0.897546\n",
      "25%     39.059000   57.160250   11.906250    1.205769\n",
      "50%     45.135500   71.935500   18.391500    1.372905\n",
      "75%     59.765000   76.413250   24.311750    1.582357\n",
      "max     72.670000   82.603000   38.062000    2.012880\n"
     ]
    }
   ],
   "source": [
    "print(gap_diff.describe())"
   ]
  },
  {
   "cell_type": "markdown",
   "metadata": {
    "colab_type": "text",
    "id": "-qKfpanm2ldQ"
   },
   "source": [
    "### Changing from wide to tall data\n",
    "\n",
    "* `.melt()` function allows conversion from wide to tall data."
   ]
  },
  {
   "cell_type": "code",
   "execution_count": 14,
   "metadata": {
    "colab": {},
    "colab_type": "code",
    "id": "eg5k4hOG2sDS"
   },
   "outputs": [
    {
     "name": "stdout",
     "output_type": "stream",
     "text": [
      "                    country   type     value\n",
      "153                 Bolivia  Ratio  1.622062\n",
      "154  Bosnia and Herzegovina  Ratio  1.390784\n",
      "156                  Brazil  Ratio  1.421726\n",
      "34                  Denmark   Diff  7.552000\n",
      "217                   Libya  Ratio  1.730965\n"
     ]
    }
   ],
   "source": [
    "gap_diff_t = gap_diff.melt(id_vars = ['country'],  # columns used as ID\n",
    "                           value_vars = ['Diff','Ratio'], # columns to melt\n",
    "                           var_name = 'type',      # column names becomes variable\n",
    "                           value_name = 'value')   # values in columns becomes value\n",
    "print(gap_diff_t.sample(n=5))"
   ]
  },
  {
   "cell_type": "markdown",
   "metadata": {
    "colab_type": "text",
    "id": "lUx85bT09nrF"
   },
   "source": [
    "### Concatenating and merging dataframes\n",
    "\n",
    "* You may concatenate two dataframes by rows or by columns (if consistently ordered)\n",
    "* You may use `.merge()` function to combine the data when overlapping objects are not ordered in the same way"
   ]
  },
  {
   "cell_type": "code",
   "execution_count": 15,
   "metadata": {
    "colab": {},
    "colab_type": "code",
    "id": "xZlFBzos3h9M"
   },
   "outputs": [
    {
     "name": "stdout",
     "output_type": "stream",
     "text": [
      "           country continent  year  lifeExp       pop    gdpPercap\n",
      "431       Djibouti    Africa  2007   54.791    496374  2082.481567\n",
      "300       Colombia  Americas  1952   50.643  12350771  2144.115096\n",
      "1331       Senegal    Africa  2007   63.062  12267493  1712.472136\n",
      "192   Burkina Faso    Africa  1952   31.975   4469979   543.255241\n",
      "239       Cameroon    Africa  2007   50.430  17696293  2042.095240\n",
      "(284, 6)\n",
      "(284, 6)\n"
     ]
    }
   ],
   "source": [
    "# I want to extract only 1952 and 2007 data\n",
    "gap_1952 = gap[gap.year == 1952]\n",
    "gap_2007 = gap[gap.year == 2007]\n",
    "\n",
    "gap_55yr_v2 = pd.concat([gap_1952,gap_2007],axis=0) # combine rows\n",
    "\n",
    "print(gap_55yr_v2.sample(n=5))\n",
    "print(gap_55yr.shape)\n",
    "print(gap_55yr_v2.shape)"
   ]
  },
  {
   "cell_type": "code",
   "execution_count": 16,
   "metadata": {
    "colab": {},
    "colab_type": "code",
    "id": "fmq2UdIG70bs"
   },
   "outputs": [
    {
     "name": "stdout",
     "output_type": "stream",
     "text": [
      "Index(['country', 'continent', 'year_1952', 'lifeExp_1952', 'pop_1952',\n",
      "       'gdpPercap_1952', 'year_2007', 'lifeExp_2007', 'pop_2007',\n",
      "       'gdpPercap_2007'],\n",
      "      dtype='object')\n",
      "          country continent  year_1952  lifeExp_1952  pop_1952  \\\n",
      "59      Indonesia      Asia       1952        37.468  82052000   \n",
      "76     Madagascar    Africa       1952        36.681   4762912   \n",
      "109  Saudi Arabia      Asia       1952        39.875   4005677   \n",
      "130       Tunisia    Africa       1952        44.600   3647735   \n",
      "22           Chad    Africa       1952        38.092   2682462   \n",
      "\n",
      "     gdpPercap_1952  year_2007  lifeExp_2007   pop_2007  gdpPercap_2007  \n",
      "59       749.681655       2007        70.650  223547000     3540.651564  \n",
      "76      1443.011715       2007        59.443   19167654     1044.770126  \n",
      "109     6459.554823       2007        72.777   27601038    21654.831940  \n",
      "130     1468.475631       2007        73.923   10276158     7092.923025  \n",
      "22      1178.665927       2007        50.651   10238807     1704.063724  \n"
     ]
    }
   ],
   "source": [
    "# merge the two data horizontally\n",
    "gap_55yr_v3 = gap_1952.merge(gap_2007, on = ['country','continent'], suffixes=['_1952','_2007'])\n",
    "\n",
    "# print the column names of merged data\n",
    "print(gap_55yr_v3.columns)\n",
    "\n",
    "# print a peek of the contents\n",
    "print(gap_55yr_v3.sample(n=5))"
   ]
  },
  {
   "cell_type": "markdown",
   "metadata": {
    "colab_type": "text",
    "id": "z_IFnRPNCFI-"
   },
   "source": [
    "### Grouping, aggregating and sorting\n",
    "\n",
    "* Use `.groupby()` function to create a new DataFrame aggregating on specific attributes\n",
    "* `.sort_values()` can sort a DataFrame by specific columns"
   ]
  },
  {
   "cell_type": "code",
   "execution_count": 17,
   "metadata": {
    "colab": {},
    "colab_type": "code",
    "id": "OHow_PTl9c9k"
   },
   "outputs": [
    {
     "name": "stdout",
     "output_type": "stream",
     "text": [
      "                         year    lifeExp           pop     gdpPercap\n",
      "country     continent                                               \n",
      "Afghanistan Asia       1979.5  37.478833  1.582372e+07    802.674598\n",
      "Albania     Europe     1979.5  68.432917  2.580249e+06   3255.366633\n",
      "Algeria     Africa     1979.5  59.030167  1.987541e+07   4426.025973\n",
      "Angola      Africa     1979.5  37.883500  7.309390e+06   3607.100529\n",
      "Argentina   Americas   1979.5  69.060417  2.860224e+07   8955.553783\n",
      "Australia   Oceania    1979.5  74.662917  1.464931e+07  19980.595634\n",
      "Austria     Europe     1979.5  73.103250  7.583298e+06  20411.916279\n",
      "Bahrain     Asia       1979.5  65.605667  3.739132e+05  18077.663945\n",
      "Bangladesh  Asia       1979.5  49.834083  9.075540e+07    817.558818\n",
      "Belgium     Europe     1979.5  73.641750  9.725119e+06  19900.758072\n"
     ]
    }
   ],
   "source": [
    "# group by country, and get avg values\n",
    "gap_grp = gap.groupby(by=['country','continent']).mean()\n",
    "print(gap_grp.head(n=10))"
   ]
  },
  {
   "cell_type": "code",
   "execution_count": 18,
   "metadata": {
    "colab": {},
    "colab_type": "code",
    "id": "N8H6ZF2VCBML"
   },
   "outputs": [
    {
     "name": "stdout",
     "output_type": "stream",
     "text": [
      "                         year    lifeExp           pop     gdpPercap\n",
      "country     continent                                               \n",
      "Iceland     Europe     1979.5  76.511417  2.269781e+05  20531.422272\n",
      "Sweden      Europe     1979.5  76.177000  8.220029e+06  19943.126104\n",
      "Norway      Europe     1979.5  75.843000  4.031441e+06  26747.306554\n",
      "Netherlands Europe     1979.5  75.648500  1.378680e+07  21748.852208\n",
      "Switzerland Europe     1979.5  75.565083  6.384293e+06  27074.334405\n",
      "Canada      Americas   1979.5  74.902750  2.446297e+07  22410.746340\n",
      "Japan       Asia       1979.5  74.826917  1.117588e+08  17750.869984\n",
      "Australia   Oceania    1979.5  74.662917  1.464931e+07  19980.595634\n",
      "Denmark     Europe     1979.5  74.370167  4.994187e+06  21671.824888\n",
      "France      Europe     1979.5  74.348917  5.295256e+07  18833.570327\n"
     ]
    }
   ],
   "source": [
    "# sort by avg life expectancy\n",
    "gap_grp.sort_values('lifeExp',ascending=False,inplace=True)\n",
    "print(gap_grp.head(n=10))"
   ]
  },
  {
   "cell_type": "markdown",
   "metadata": {
    "colab_type": "text",
    "id": "O4FPZGqr9yMl"
   },
   "source": [
    "### Very basic plotting with pandas"
   ]
  },
  {
   "cell_type": "code",
   "execution_count": 19,
   "metadata": {
    "colab": {},
    "colab_type": "code",
    "id": "h1TJnJof95Lr"
   },
   "outputs": [],
   "source": [
    "import pandas as pd\n",
    "\n",
    "url = \"https://raw.githubusercontent.com/jennybc/gapminder/master/data-raw/08_gap-every-five-years.tsv\"\n",
    "gap = pd.read_csv(url, sep='\\t')  # for tsv file, use sep='\\t'"
   ]
  },
  {
   "cell_type": "code",
   "execution_count": 20,
   "metadata": {
    "colab": {},
    "colab_type": "code",
    "id": "OLxpgNPy-EId"
   },
   "outputs": [
    {
     "data": {
      "text/plain": [
       "<Axes: ylabel='Frequency'>"
      ]
     },
     "execution_count": 20,
     "metadata": {},
     "output_type": "execute_result"
    },
    {
     "data": {
      "image/png": "[encoded data removed]",
      "text/plain": [
       "<Figure size 640x480 with 1 Axes>"
      ]
     },
     "metadata": {},
     "output_type": "display_data"
    }
   ],
   "source": [
    "# get the histogram of life Expectancy in 2007\n",
    "gap_2007 = gap[gap.year == 2007]\n",
    "gap_2007.lifeExp.plot.hist(bins=20)"
   ]
  },
  {
   "cell_type": "code",
   "execution_count": 21,
   "metadata": {
    "colab": {},
    "colab_type": "code",
    "id": "ydTaoGlT-_dn"
   },
   "outputs": [
    {
     "data": {
      "text/plain": [
       "<Axes: xlabel='year', ylabel='lifeExp'>"
      ]
     },
     "execution_count": 21,
     "metadata": {},
     "output_type": "execute_result"
    },
    {
     "data": {
      "image/png": "[encoded data removed]",
      "text/plain": [
       "<Figure size 640x480 with 1 Axes>"
      ]
     },
     "metadata": {},
     "output_type": "display_data"
    }
   ],
   "source": [
    "# Visualize how life expectancy changed in US since 1952\n",
    "gap_usa = gap[gap.country == 'United States']\n",
    "gap_usa.plot.scatter(x='year',y='lifeExp')"
   ]
  }
 ],
 "metadata": {
  "kernelspec": {
   "display_name": "Python 3 (ipykernel)",
   "language": "python",
   "name": "python3"
  },
  "language_info": {
   "codemirror_mode": {
    "name": "ipython",
    "version": 3
   },
   "file_extension": ".py",
   "mimetype": "text/x-python",
   "name": "python",
   "nbconvert_exporter": "python",
   "pygments_lexer": "ipython3",
   "version": "3.9.12"
  }
 },
 "nbformat": 4,
 "nbformat_minor": 4
}
